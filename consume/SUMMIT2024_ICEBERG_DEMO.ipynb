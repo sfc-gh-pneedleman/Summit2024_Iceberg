{
 "cells": [
  {
   "cell_type": "code",
   "execution_count": 0,
   "metadata": {
    "application/vnd.databricks.v1+cell": {
     "cellMetadata": {
      "byteLimit": 2048000,
      "rowLimit": 10000
     },
     "inputWidgets": {},
     "nuid": "bcf131e3-e651-4950-81c8-d4450499c76a",
     "showTitle": false,
     "title": ""
    }
   },
   "outputs": [],
   "source": [
    "#spark config for vectorized reader \n",
    "spark.conf.set(\"spark.sql.iceberg.vectorization.enabled\", \"false\")"
   ]
  },
  {
   "cell_type": "code",
   "execution_count": 0,
   "metadata": {
    "application/vnd.databricks.v1+cell": {
     "cellMetadata": {
      "byteLimit": 2048000,
      "implicitDf": true,
      "rowLimit": 10000
     },
     "inputWidgets": {},
     "nuid": "991e10b0-401c-45cf-bcfa-e23d3d428061",
     "showTitle": false,
     "title": ""
    }
   },
   "outputs": [],
   "source": [
    "%sql\n",
    "\n",
    "--show Snowflake Databases from Iceberg Catalog SDK\n",
    "USE CATALOG snowflake_catalog;\n",
    "SHOW NAMESPACES;\n",
    "SHOW NAMESPACES IN SUMMIT_24;"
   ]
  },
  {
   "cell_type": "code",
   "execution_count": 0,
   "metadata": {
    "application/vnd.databricks.v1+cell": {
     "cellMetadata": {
      "byteLimit": 2048000,
      "implicitDf": true,
      "rowLimit": 10000
     },
     "inputWidgets": {},
     "nuid": "81f0276b-f0a1-4179-9ed0-765fc187ab64",
     "showTitle": false,
     "title": ""
    }
   },
   "outputs": [],
   "source": [
    "%sql\n",
    "\n",
    "--show tables within the Selected Database \n",
    "USE SUMMIT_24.CURATED;\n",
    "SHOW TABLES;"
   ]
  },
  {
   "cell_type": "code",
   "execution_count": 0,
   "metadata": {
    "application/vnd.databricks.v1+cell": {
     "cellMetadata": {
      "byteLimit": 2048000,
      "implicitDf": true,
      "rowLimit": 10000
     },
     "inputWidgets": {},
     "nuid": "d5acd8db-1d12-4f3c-abfe-76dcbe1cad75",
     "showTitle": false,
     "title": ""
    }
   },
   "outputs": [],
   "source": [
    "%sql\n",
    "--test pulling data via SQL \n",
    "SELECT * FROM SUMMIT_24.CURATED.ICEBERG_SALES_TXN\n",
    "LIMIT 10;"
   ]
  },
  {
   "cell_type": "code",
   "execution_count": 0,
   "metadata": {
    "application/vnd.databricks.v1+cell": {
     "cellMetadata": {
      "byteLimit": 2048000,
      "implicitDf": true,
      "rowLimit": 10000
     },
     "inputWidgets": {},
     "nuid": "298deec1-79aa-47c2-93a1-faf82a2440cd",
     "showTitle": false,
     "title": ""
    }
   },
   "outputs": [],
   "source": [
    "## ########################\n",
    "## Display RowCount \n",
    "## Demo Iceberg table is auto refreshed from Snowflake\n",
    "## #######################\n",
    "\n",
    "#pull data via pySpark and save to a dataframe\n",
    "df_txn = spark.table(\"SUMMIT_24.CURATED.ICEBERG_SALES_TXN\")\n",
    "row_count = df_txn.count()\n",
    "row_count = f'{row_count:,}' \n",
    "\n",
    "#display rowcount in HTML \n",
    "displayHTML(\"\"\"<table style='width:300px; height:100px; border:1px solid; \n",
    "               border-color:#d3d3d3; border-radius: 15px 15px 15px 15px;\n",
    "               background-color:#eee'>\n",
    "<tbody>\n",
    "<tr> <td > <span style='font-size:20px'><center>Current Row Count  </span> </center></td></tr>\n",
    "<tr>\n",
    "<td style='width: 90%; color: black'>\n",
    "          <center><b> <span style='font-size:30px'>\"\"\" + str(row_count) + \n",
    "          \"\"\"</b></center> </td>\n",
    "</tr>\n",
    "\n",
    "</tbody>\n",
    "</table>\"\"\")\n"
   ]
  },
  {
   "cell_type": "code",
   "execution_count": 0,
   "metadata": {
    "application/vnd.databricks.v1+cell": {
     "cellMetadata": {
      "byteLimit": 2048000,
      "rowLimit": 10000
     },
     "inputWidgets": {},
     "nuid": "83bc856d-45ca-46ea-b519-7eb21fa27329",
     "showTitle": false,
     "title": ""
    }
   },
   "outputs": [],
   "source": [
    "#display dataframe output\n",
    "df_txn.show()"
   ]
  },
  {
   "cell_type": "code",
   "execution_count": 0,
   "metadata": {
    "application/vnd.databricks.v1+cell": {
     "cellMetadata": {
      "byteLimit": 2048000,
      "rowLimit": 10000
     },
     "inputWidgets": {},
     "nuid": "2646845a-cc7d-4907-aa01-35332d8f862c",
     "showTitle": false,
     "title": ""
    }
   },
   "outputs": [],
   "source": [
    "## ###########################\n",
    "## Dataframe transformations \n",
    "## ############################\n",
    "\n",
    "#import pysparl functions \n",
    "from pyspark.sql.functions import count, avg, col, size, length\n",
    "\n",
    "# perform aggrigation of data by State. Only bring back not null states that have 2 char abbreviation  \n",
    "# convert SparkDF to PandasDF \n",
    "df_txn_grp = df_txn.groupBy(\"CUSTOMER_ADDR_STATE\").agg(\n",
    "    avg(\"PRODUCT_REVIEW_SENTIMENT_SCORE\").alias(\"Avg Sentiment By State\"), \n",
    "    count(\"CUSTOMER_ADDR_STATE\").alias(\"State Count\")\n",
    ").filter(df_txn.CUSTOMER_ADDR_STATE.isNotNull()).where(col('State Count') > 0) \\\n",
    ".where(length(col(\"CUSTOMER_ADDR_STATE\")) == 2) \\\n",
    ".filter(df_txn.CUSTOMER_ADDR_STATE.rlike('^[A-Z]+$')) \\\n",
    ".withColumnRenamed(\"CUSTOMER_ADDR_STATE\", \"Customer State\") \\\n",
    ".toPandas()\n",
    "\n",
    "#sort the data in pandas \n",
    "#df_txn_grp['State Count'] = df_txn_grp['State Count'].apply(lambda x: x*10)\n",
    "df_txn_grp = df_txn_grp.sort_values(by='Avg Sentiment By State', ascending=False)\n",
    "\n",
    "\n",
    "#display pandas df output\n",
    "df_txn_grp.head()\n"
   ]
  },
  {
   "cell_type": "code",
   "execution_count": 0,
   "metadata": {
    "application/vnd.databricks.v1+cell": {
     "cellMetadata": {
      "byteLimit": 2048000,
      "rowLimit": 10000
     },
     "inputWidgets": {},
     "nuid": "cb6d7df6-7144-40fb-abd3-b30478c3f284",
     "showTitle": false,
     "title": ""
    }
   },
   "outputs": [],
   "source": [
    "## ###################################\n",
    "## Chart Sentiment Analysis by State \n",
    "## ####################################\n",
    "\n",
    "#import charting libraries \n",
    "import seaborn as sns\n",
    "import numpy as np\n",
    "import matplotlib.pyplot as plt\n",
    "import matplotlib as mpl\n",
    "\n",
    "#create a barchat that shows average sentiment by state \n",
    "ax = sns.barplot(data=df_txn_grp, x='Avg Sentiment By State', y='Customer State', edgecolor='black')\n",
    "sns.set_theme(rc={'figure.figsize':(18,28.27)})\n",
    "\n",
    "#color and size the bars based on values of sentiment scores \n",
    "widths = np.array([bar.get_width() for bar in ax.containers[0]])\n",
    "neg_cmap = mpl.colors.LinearSegmentedColormap.from_list('', ['orange', 'red'])\n",
    "pos_cmap = mpl.colors.LinearSegmentedColormap.from_list('', ['yellow', 'green'])\n",
    "min_width, max_width = widths.min(), widths.max()\n",
    "for bar, w in zip(ax.containers[0], widths):\n",
    "    bar.set_facecolor(neg_cmap(w / min_width) if w < 0 else pos_cmap(w / max_width))\n",
    "#plt.tight_layout()\n",
    "\n",
    "#show the chart\n",
    "plt.show()"
   ]
  },
  {
   "cell_type": "code",
   "execution_count": 0,
   "metadata": {
    "application/vnd.databricks.v1+cell": {
     "cellMetadata": {
      "byteLimit": 2048000,
      "rowLimit": 10000
     },
     "inputWidgets": {},
     "nuid": "9331d25a-270c-49e4-96be-69c2bc003b83",
     "showTitle": false,
     "title": ""
    }
   },
   "outputs": [],
   "source": [
    "# optional display of US states and associated Sentiment \n",
    "display(df_txn_grp)"
   ]
  }
 ],
 "metadata": {
  "application/vnd.databricks.v1+notebook": {
   "dashboards": [],
   "environmentMetadata": null,
   "language": "python",
   "notebookMetadata": {
    "mostRecentlyExecutedCommandWithImplicitDF": {
     "commandId": 3774715796953594,
     "dataframes": [
      "_sqldf"
     ]
    },
    "pythonIndentUnit": 4
   },
   "notebookName": "SUMMIT2024_ICEBERG_DEMO",
   "widgets": {}
  }
 },
 "nbformat": 4,
 "nbformat_minor": 0
}
